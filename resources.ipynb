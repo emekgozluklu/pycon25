{
 "cells": [
  {
   "cell_type": "markdown",
   "metadata": {},
   "source": [
    "# Resorces\n",
    "\n",
    "1. Presentation:\n",
    "https://docs.google.com/presentation/d/15lGr9ePxn45SuV7x9DdBalVjvAjN4NqNqC1Lu1Otcuk/edit?usp=sharing\n",
    "\n",
    "2. Papers:\n",
    "Estimating LLM Uncertainty with Logits - https://arxiv.org/html/2502.00290v1\n",
    "A Survey on Uncertainty Quantification of Large Language Models - https://arxiv.org/html/2412.05563v1\n",
    "\n",
    "3. Libraries:\n",
    "outlines - https://github.com/dottxt-ai/outlines\n",
    "guidance - https://github.com/guidance-ai/guidance\n",
    "instructior - https://github.com/instructor-ai/instructor\n",
    "jsonformer - https://github.com/1rgs/jsonformer\n",
    "\n",
    "4. Other sources:\n",
    "https://www.youtube.com/watch?v=aNmfvN6S_n4\n",
    "https://www.boundaryml.com/blog/structured-output-from-llms\n",
    "https://platform.openai.com/docs/guides/structured-outputs?api-mode=chat#how-to-use\n",
    "https://academy.openai.com/home/videos/structured-outputs-build-hour-2025-02-07\n"
   ]
  }
 ],
 "metadata": {
  "language_info": {
   "name": "python"
  }
 },
 "nbformat": 4,
 "nbformat_minor": 2
}
